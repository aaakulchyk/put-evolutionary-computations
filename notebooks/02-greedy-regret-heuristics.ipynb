{
 "cells": [
  {
   "cell_type": "markdown",
   "metadata": {},
   "source": [
    "# Greedy regret heuristics\n",
    "\n",
    "Made in pairs by Andrei Kulchyk (155489) and Fiodar Piatrovich (155174)."
   ]
  },
  {
   "cell_type": "markdown",
   "metadata": {},
   "source": [
    "## Description of a problem\n",
    "\n",
    "We are given three columns of integers with a row for each node. The first two columns contain x and y coordinates of the node positions in a plane. The third column contains node costs. The goal is to select exactly 50% of the nodes (if the number of nodes is odd we round the number of nodes to be selected up) and form a Hamiltonian cycle (closed path) through this set of nodes such that the sum of the total length of the path plus the total cost of the selected nodes is minimized.\n",
    "\n",
    "The distances between nodes are calculated as Euclidean distances rounded mathematically to\n",
    "integer values. The distance matrix should be calculated just after reading an instance and then only\n",
    "the distance matrix (no nodes coordinates) should be accessed by optimization methods to allow\n",
    "instances defined only by distance matrices."
   ]
  },
  {
   "cell_type": "code",
   "execution_count": null,
   "metadata": {},
   "outputs": [],
   "source": [
    "## Implementation"
   ]
  },
  {
   "cell_type": "code",
   "execution_count": null,
   "metadata": {},
   "outputs": [],
   "source": [
    "### Dependencies"
   ]
  },
  {
   "cell_type": "code",
   "execution_count": null,
   "metadata": {},
   "outputs": [],
   "source": [
    "from dotenv import load_dotenv\n",
    "\n",
    "_ = load_dotenv()"
   ]
  },
  {
   "cell_type": "code",
   "execution_count": null,
   "metadata": {},
   "outputs": [],
   "source": [
    "import random\n",
    "from pathlib import Path\n",
    "\n",
    "import matplotlib.pyplot as plt\n",
    "import numpy as np\n",
    "import pandas as pd\n",
    "from hamiltonian_cycle.costs import (\n",
    "    dm,\n",
    ")\n",
    "from hamiltonian_cycle.nbconversion import convert_notebook_to_pdf\n",
    "from hamiltonian_cycle.experiment import perform_experiment\n",
    "from hamiltonian_cycle.algorithms.lab2 import (\n",
    "    init_greedy_2regret_cycle,\n",
    "    init_greedy_2regret_weighted_cycle,\n",
    ")\n",
    "from hamiltonian_cycle.algorithms.lab1 import (\n",
    "    init_nearest_neighbor_best_position,\n",
    "    init_nearest_neighbor_end,\n",
    "    init_random_solution,\n",
    "    init_greedy_cycle,\n",
    ")\n",
    "\n",
    "import warnings"
   ]
  },
  {
   "cell_type": "code",
   "execution_count": null,
   "metadata": {},
   "outputs": [],
   "source": [
    "plt.style.use(\"ggplot\")\n",
    "\n",
    "warnings.filterwarnings(\"ignore\")\n",
    "\n",
    "SUBSET_RATIO = 0.5\n",
    "SEED: int = 369_420\n",
    "\n",
    "random.seed(SEED)\n",
    "np.random.seed(SEED)"
   ]
  },
  {
   "cell_type": "code",
   "execution_count": null,
   "metadata": {},
   "outputs": [],
   "source": [
    "### Read Data"
   ]
  },
  {
   "cell_type": "code",
   "execution_count": null,
   "metadata": {},
   "outputs": [],
   "source": [
    "def read_dataset_csv(csv_path: Path) -> pd.DataFrame:\n",
    "    return pd.read_csv(csv_path, sep=\";\", names=[\"x\", \"y\", \"cost\"])\n",
    "\n",
    "\n",
    "DATA_DIR = Path(\"../data\").resolve()"
   ]
  },
  {
   "cell_type": "code",
   "execution_count": null,
   "metadata": {},
   "outputs": [],
   "source": [
    "ds_a = read_dataset_csv(DATA_DIR / \"TSPA.csv\")\n",
    "ds_b = read_dataset_csv(DATA_DIR / \"TSPB.csv\")\n",
    "\n",
    "dm_a = dm(ds_a)\n",
    "dm_b = dm(ds_b)"
   ]
  },
  {
   "cell_type": "markdown",
   "metadata": {},
   "source": [
    "## Previous Algorithms"
   ]
  },
  {
   "cell_type": "markdown",
   "metadata": {},
   "source": [
    "### Random Solution"
   ]
  },
  {
   "cell_type": "markdown",
   "metadata": {},
   "source": [
    "#### Dataset A"
   ]
  },
  {
   "cell_type": "code",
   "execution_count": null,
   "metadata": {},
   "outputs": [],
   "source": [
    "perform_experiment(\n",
    "    ds_a,\n",
    "    dm_a,\n",
    "    \"Dataset A solution visualization\",\n",
    "    init_random_solution,\n",
    ")"
   ]
  },
  {
   "cell_type": "markdown",
   "metadata": {},
   "source": [
    "#### Dataset B"
   ]
  },
  {
   "cell_type": "code",
   "execution_count": null,
   "metadata": {},
   "outputs": [],
   "source": [
    "perform_experiment(\n",
    "    ds_b,\n",
    "    dm_b,\n",
    "    \"Dataset A solution visualization\",\n",
    "    init_random_solution,\n",
    ")"
   ]
  },
  {
   "cell_type": "markdown",
   "metadata": {},
   "source": [
    "### Nearest Neighbors Considering Adding the Node Only at the End of the Current Path"
   ]
  },
  {
   "cell_type": "markdown",
   "metadata": {},
   "source": [
    "#### Dataset A"
   ]
  },
  {
   "cell_type": "code",
   "execution_count": null,
   "metadata": {},
   "outputs": [],
   "source": [
    "perform_experiment(\n",
    "    ds_a,\n",
    "    dm_a,\n",
    "    \"Dataset A solution visualization\",\n",
    "    init_nearest_neighbor_end,\n",
    ")"
   ]
  },
  {
   "cell_type": "markdown",
   "metadata": {},
   "source": [
    "#### Dataset B"
   ]
  },
  {
   "cell_type": "code",
   "execution_count": null,
   "metadata": {},
   "outputs": [],
   "source": [
    "perform_experiment(\n",
    "    ds_b,\n",
    "    dm_b,\n",
    "    \"Dataset B solution visualization\",\n",
    "    init_nearest_neighbor_end,\n",
    ")"
   ]
  },
  {
   "cell_type": "markdown",
   "metadata": {},
   "source": [
    "### Nearest Neighbors Considering Adding the Node at the Best Position on the Current Path"
   ]
  },
  {
   "cell_type": "markdown",
   "metadata": {},
   "source": [
    "#### Dataset A"
   ]
  },
  {
   "cell_type": "code",
   "execution_count": null,
   "metadata": {},
   "outputs": [],
   "source": [
    "perform_experiment(\n",
    "    ds_a,\n",
    "    dm_a,\n",
    "    \"Dataset A solution visualization\",\n",
    "    init_nearest_neighbor_best_position,\n",
    ")"
   ]
  },
  {
   "cell_type": "markdown",
   "metadata": {},
   "source": [
    "#### Dataset B"
   ]
  },
  {
   "cell_type": "code",
   "execution_count": null,
   "metadata": {},
   "outputs": [],
   "source": [
    "perform_experiment(\n",
    "    ds_b,\n",
    "    dm_b,\n",
    "    \"Dataset B solution visualization\",\n",
    "    init_nearest_neighbor_best_position,\n",
    ")"
   ]
  },
  {
   "cell_type": "markdown",
   "metadata": {},
   "source": [
    "### Greedy Cycle"
   ]
  },
  {
   "cell_type": "markdown",
   "metadata": {},
   "source": [
    "#### Dataset A"
   ]
  },
  {
   "cell_type": "code",
   "execution_count": null,
   "metadata": {},
   "outputs": [],
   "source": [
    "perform_experiment(\n",
    "    ds_a,\n",
    "    dm_a,\n",
    "    \"Dataset A solution visualization\",\n",
    "    init_greedy_cycle,\n",
    ")"
   ]
  },
  {
   "cell_type": "markdown",
   "metadata": {},
   "source": [
    "#### Dataset B"
   ]
  },
  {
   "cell_type": "code",
   "execution_count": null,
   "metadata": {},
   "outputs": [],
   "source": [
    "perform_experiment(\n",
    "    ds_b,\n",
    "    dm_b,\n",
    "    \"Dataset B solution visualization\",\n",
    "    init_greedy_cycle,\n",
    ")"
   ]
  },
  {
   "cell_type": "markdown",
   "metadata": {},
   "source": [
    "### Greedy 2-regret"
   ]
  },
  {
   "cell_type": "markdown",
   "metadata": {},
   "source": [
    "#### Pseudocode\n",
    "\n",
    "$$\n",
    "\\begin{aligned}\n",
    "&\\textbf{Function Greedy\\_2\\_regret\\_heuristics}(dataset, distance\\_matrix, start\\_node): \\\\\n",
    "&\\quad \\text{size} \\gets \\text{determine subset size based on dataset length and a fixed ratio} \\\\\n",
    "&\\quad \\text{num\\_nodes} \\gets \\text{total number of nodes (rows in dataset)} \\\\\n",
    "&\\quad \\text{Copy the distance matrix to avoid modifying the original} \\\\\n",
    "&\\quad \\text{remaining\\_nodes} \\gets \\text{all nodes except the start\\_node} \\\\\n",
    "&\\quad \\text{solution} \\gets [start\\_node] \\\\\n",
    "&\\quad \\text{nearest\\_node} \\gets \\text{find the nearest node to start\\_node based on distance matrix} \\\\\n",
    "&\\quad \\text{Add nearest\\_node to solution and remove it from remaining\\_nodes} \\\\\n",
    "&\\quad \\textbf{While the solution size is smaller than the subset size}: \\\\\n",
    "&\\quad \\quad \\text{best\\_regret} \\gets -\\infty \\\\\n",
    "&\\quad \\quad \\text{best\\_node} \\gets \\text{None} \\\\\n",
    "&\\quad \\quad \\text{best\\_insertion} \\gets \\text{None} \\\\\n",
    "&\\quad \\quad \\textbf{For each node in remaining\\_nodes}: \\\\\n",
    "&\\quad \\quad \\quad \\text{best\\_cost} \\gets \\infty \\\\\n",
    "&\\quad \\quad \\quad \\text{second\\_best\\_cost} \\gets \\infty \\\\\n",
    "&\\quad \\quad \\quad \\text{best\\_position} \\gets \\text{None} \\\\\n",
    "&\\quad \\quad \\quad \\textbf{For each position in the current solution}: \\\\\n",
    "&\\quad \\quad \\quad \\quad \\text{Calculate the cost of inserting the node between two positions in solution} \\\\\n",
    "&\\quad \\quad \\quad \\quad \\textbf{If the current cost} < \\text{best\\_cost}: \\\\\n",
    "&\\quad \\quad \\quad \\quad \\quad \\text{second\\_best\\_cost} \\gets \\text{best\\_cost} \\\\\n",
    "&\\quad \\quad \\quad \\quad \\quad \\text{best\\_cost} \\gets \\text{current\\_cost} \\\\\n",
    "&\\quad \\quad \\quad \\quad \\quad \\text{best\\_position} \\gets \\text{current insertion point} \\\\\n",
    "&\\quad \\quad \\quad \\quad \\textbf{Else If the current cost} < \\text{second\\_best\\_cost}: \\\\\n",
    "&\\quad \\quad \\quad \\quad \\quad \\text{second\\_best\\_cost} \\gets \\text{current\\_cost} \\\\\n",
    "&\\quad \\quad \\quad \\text{Calculate the regret} \\gets \\text{second\\_best\\_cost} - \\text{best\\_cost} \\\\\n",
    "&\\quad \\quad \\quad \\textbf{If the regret} > \\text{best\\_regret}: \\\\\n",
    "&\\quad \\quad \\quad \\quad \\text{best\\_regret} \\gets \\text{regret} \\\\\n",
    "&\\quad \\quad \\quad \\quad \\text{best\\_node} \\gets \\text{current node} \\\\\n",
    "&\\quad \\quad \\quad \\quad \\text{best\\_insertion} \\gets \\text{current insertion point} \\\\\n",
    "&\\quad \\quad \\text{Insert best\\_node into the solution after best\\_insertion point} \\\\\n",
    "&\\quad \\quad \\text{Remove best\\_node from remaining\\_nodes} \\\\\n",
    "&\\quad \\textbf{Return} \\text{the final solution based on dataset order}\n",
    "\\end{aligned}\n",
    "$$\n"
   ]
  },
  {
   "cell_type": "markdown",
   "metadata": {},
   "source": [
    "#### Dataset A"
   ]
  },
  {
   "cell_type": "code",
   "execution_count": null,
   "metadata": {},
   "outputs": [],
   "source": [
    "perform_experiment(\n",
    "    ds_a, dm_a, \"Dataset A solution visualization\", init_greedy_2regret_cycle\n",
    ")"
   ]
  },
  {
   "cell_type": "markdown",
   "metadata": {},
   "source": [
    "#### Dataset B"
   ]
  },
  {
   "cell_type": "code",
   "execution_count": null,
   "metadata": {},
   "outputs": [],
   "source": [
    "perform_experiment(\n",
    "    ds_b, dm_b, \"Dataset B solution visualization\", init_greedy_2regret_cycle\n",
    ")"
   ]
  },
  {
   "cell_type": "markdown",
   "metadata": {},
   "source": [
    "### Greedy heuristics with a weighted sum criterion"
   ]
  },
  {
   "cell_type": "markdown",
   "metadata": {},
   "source": [
    "#### Pseudocode\n",
    "\n",
    "$$\n",
    "\\begin{aligned}\n",
    "&\\textbf{Function Greedy\\_heuristics\\_with\\_weighted\\_sum}(dataset, distance\\_matrix, start\\_node, w\\_cost, w\\_regret): \\\\\n",
    "&\\quad \\text{size} \\gets \\text{determine subset size as half of the dataset length} \\\\\n",
    "&\\quad \\text{num\\_nodes} \\gets \\text{total number of nodes (rows in dataset)} \\\\\n",
    "&\\quad \\text{Copy the distance matrix to avoid modifying the original} \\\\\n",
    "&\\quad \\text{remaining\\_nodes} \\gets \\text{all nodes except the start\\_node} \\\\\n",
    "&\\quad \\text{solution} \\gets [start\\_node] \\\\\n",
    "&\\quad \\text{nearest\\_node} \\gets \\text{find the nearest node to start\\_node based on distance matrix} \\\\\n",
    "&\\quad \\text{Add nearest\\_node to solution and remove it from remaining\\_nodes} \\\\\n",
    "&\\quad \\textbf{While the solution size is smaller than the subset size}: \\\\\n",
    "&\\quad \\quad \\text{best\\_combined\\_criterion} \\gets \\infty \\\\\n",
    "&\\quad \\quad \\text{best\\_node} \\gets \\text{None} \\\\\n",
    "&\\quad \\quad \\text{best\\_insertion} \\gets \\text{None} \\\\\n",
    "&\\quad \\quad \\textbf{For each node in remaining\\_nodes}: \\\\\n",
    "&\\quad \\quad \\quad \\text{best\\_cost} \\gets \\infty \\\\\n",
    "&\\quad \\quad \\quad \\text{second\\_best\\_cost} \\gets \\infty \\\\\n",
    "&\\quad \\quad \\quad \\text{best\\_position} \\gets \\text{None} \\\\\n",
    "&\\quad \\quad \\quad \\textbf{For each position in the current solution}: \\\\\n",
    "&\\quad \\quad \\quad \\quad \\text{Calculate the cost of inserting the node between two positions in solution} \\\\\n",
    "&\\quad \\quad \\quad \\quad \\textbf{If the current cost} < \\text{best\\_cost}: \\\\\n",
    "&\\quad \\quad \\quad \\quad \\quad \\text{second\\_best\\_cost} \\gets \\text{best\\_cost} \\\\\n",
    "&\\quad \\quad \\quad \\quad \\quad \\text{best\\_cost} \\gets \\text{current\\_cost} \\\\\n",
    "&\\quad \\quad \\quad \\quad \\quad \\text{best\\_position} \\gets \\text{current insertion point} \\\\\n",
    "&\\quad \\quad \\quad \\quad \\textbf{Else If the current cost} < \\text{second\\_best\\_cost}: \\\\\n",
    "&\\quad \\quad \\quad \\quad \\quad \\text{second\\_best\\_cost} \\gets \\text{current\\_cost} \\\\\n",
    "&\\quad \\quad \\quad \\text{Calculate the regret} \\gets \\text{second\\_best\\_cost} - \\text{best\\_cost} \\\\\n",
    "&\\quad \\quad \\quad \\text{combined\\_criterion} \\gets \\text{w\\_cost} \\times \\text{best\\_cost} + \\text{w\\_regret} \\times \\text{regret} \\\\\n",
    "&\\quad \\quad \\textbf{If combined\\_criterion} < \\text{best\\_combined\\_criterion}: \\\\\n",
    "&\\quad \\quad \\quad \\text{best\\_combined\\_criterion} \\gets \\text{combined\\_criterion} \\\\\n",
    "&\\quad \\quad \\quad \\text{best\\_node} \\gets \\text{current node} \\\\\n",
    "&\\quad \\quad \\quad \\text{best\\_insertion} \\gets \\text{current insertion point} \\\\\n",
    "&\\quad \\quad \\text{Insert best\\_node into the solution after best\\_insertion point} \\\\\n",
    "&\\quad \\quad \\text{Remove best\\_node from remaining\\_nodes} \\\\\n",
    "&\\quad \\textbf{Return} \\text{the final solution based on dataset order}\n",
    "\\end{aligned}\n",
    "$$\n"
   ]
  },
  {
   "cell_type": "markdown",
   "metadata": {},
   "source": [
    "#### Dataset A"
   ]
  },
  {
   "cell_type": "code",
   "execution_count": null,
   "metadata": {},
   "outputs": [],
   "source": [
    "perform_experiment(\n",
    "    ds_a,\n",
    "    dm_a,\n",
    "    \"Dataset A solution visualization\",\n",
    "    init_greedy_2regret_weighted_cycle,\n",
    "    w_regret=0.5,\n",
    "    w_cost=0.5,\n",
    ")"
   ]
  },
  {
   "cell_type": "markdown",
   "metadata": {},
   "source": [
    "#### Dataset B"
   ]
  },
  {
   "cell_type": "code",
   "execution_count": null,
   "metadata": {},
   "outputs": [],
   "source": [
    "perform_experiment(\n",
    "    ds_b,\n",
    "    dm_b,\n",
    "    \"Dataset B solution visualization\",\n",
    "    init_greedy_2regret_weighted_cycle,\n",
    "    w_regret=0.5,\n",
    "    w_cost=0.5,\n",
    ")"
   ]
  },
  {
   "cell_type": "markdown",
   "metadata": {},
   "source": [
    "## Conclusion\n",
    "\n",
    "Unfortunately, heuristic didn't help to improve the performace of the Greedy Cycle. On top of that, decreasing the weight of the heuristic impacted positively on the cost reduction."
   ]
  },
  {
   "cell_type": "code",
   "execution_count": null,
   "metadata": {},
   "outputs": [],
   "source": [
    "convert_notebook_to_pdf(\n",
    "    \"../notebooks/02-greedy-regret-heuristics.ipynb\",\n",
    "    \"../reports/02-greedy-regret-heuristics.pdf\",\n",
    ")"
   ]
  }
 ],
 "metadata": {
  "kernelspec": {
   "display_name": ".venv",
   "language": "python",
   "name": "python3"
  },
  "language_info": {
   "codemirror_mode": {
    "name": "ipython",
    "version": 3
   },
   "file_extension": ".py",
   "mimetype": "text/x-python",
   "name": "python",
   "nbconvert_exporter": "python",
   "pygments_lexer": "ipython3",
   "version": "3.11.9"
  }
 },
 "nbformat": 4,
 "nbformat_minor": 2
}
